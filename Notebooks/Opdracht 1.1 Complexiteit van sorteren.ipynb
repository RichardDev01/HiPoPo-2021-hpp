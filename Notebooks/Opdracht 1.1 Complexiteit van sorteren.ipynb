{
 "cells": [
  {
   "cell_type": "markdown",
   "metadata": {},
   "source": [
    "# Opdracht 1.1: Complexiteit van sorteren\n",
    "\n",
    "Er zijn diverse soorten sorteer-algoritmen. In deze opgave gaan we een aantal van deze algoritmen op hun run time efficiëntie vergelijken; eerst door het draaien van een paar tests, vervolgens door analyse van de code (complexiteitsanalyse)."
   ]
  },
  {
   "cell_type": "code",
   "execution_count": 1,
   "metadata": {},
   "outputs": [],
   "source": [
    "from typing import List\n",
    "from timeit import default_timer as timer\n",
    "import seaborn as sns\n",
    "import numpy as np\n",
    "import random\n",
    "import sys\n",
    "sys.setrecursionlimit(30000)"
   ]
  },
  {
   "cell_type": "code",
   "execution_count": 2,
   "metadata": {},
   "outputs": [],
   "source": [
    "randomlist1k  = list(np.random.randint(low=0, high=100, size=1000))\n",
    "randomlist10k = list(np.random.randint(low=0, high=100, size=10000))\n",
    "randomlist30k = list(np.random.randint(low=0, high=100, size=30000))"
   ]
  },
  {
   "cell_type": "code",
   "execution_count": 3,
   "metadata": {},
   "outputs": [],
   "source": [
    "sortedlist30k = [i for i in range(30000)]"
   ]
  },
  {
   "cell_type": "markdown",
   "metadata": {},
   "source": [
    "# Selection sort\n",
    "\n",
    "Selection sort is een simpel, maar inefficient sorteeralgoritme. Als je een lijst probeert te sorteren in oplopende volgorde, moet het eerste element altijd het kleinste element zijn. In de eerste iteratie van selection sort selecteert het het kleinste element in de array en verwisselt deze met het eerste element van de array. De tweede iteratie selecteert het tweede kleinste item (deze is kleiner dan alle overige items in de array) en verwisselt deze met het tweede item van de array. Het algoritme gaat zo door tot het in de laatste iteratie het een-na-grootste element van de array met het item op de een-na-laatste plek van de array verwisselt.\n",
    "\n",
    "https://en.wikipedia.org/wiki/Selection_sort"
   ]
  },
  {
   "cell_type": "code",
   "execution_count": 4,
   "metadata": {},
   "outputs": [],
   "source": [
    "def selection_sort(data: List[int]) -> None:\n",
    "    \"\"\"Sort an array using selection sort\"\"\"\n",
    "    # loop over len(data) -1 elements\n",
    "    for index1 in range(len(data)-1):\n",
    "        smallest = index1 # first index of remaining array\n",
    "\n",
    "        # loop to find index of smallest element\n",
    "        for index2 in range(index1 + 1, len(data)):\n",
    "            if data[index2] < data[smallest]:\n",
    "                smallest = index2\n",
    "\n",
    "        # swap smallest element into position\n",
    "        data[smallest], data[index1] = data[index1], data[smallest]\n",
    "\n",
    "\n",
    "def recursive_selection_sort(data: List[int]) -> None:\n",
    "    # Lists with less than one element are sorted\n",
    "    if len(data) <= 1:\n",
    "        return data\n",
    "    else:\n",
    "        smallest = min(data)    # find the smallest element in the list\n",
    "        data.remove(smallest)   # remove from the list\n",
    "        return [smallest] + recursive_selection_sort(data) # put on front of to be sorted remainder"
   ]
  },
  {
   "cell_type": "markdown",
   "metadata": {},
   "source": [
    "# Insertion Sort\n",
    "Insertion sort is een ander simpel, maar inefficient sorteeralgoritme. In de eerste iteratie van dit algoritme neemt het het tweede element van de array en verwisselt dit met het eerste element als het kleiner is dan het eerste element. In de tweede iteratie bekijkt het het derde element, en plaatst dit (insert) op de juiste plek tussen de eerste twee elementen. De eerste drie elementen zijn nu gesorteerd. Dit blijft het doen tot het alle overige elementen van de array heeft bekeken en op de juiste plek heeft gezet.\n",
    "\n",
    "https://en.wikipedia.org/wiki/Insertion_sort"
   ]
  },
  {
   "cell_type": "code",
   "execution_count": 5,
   "metadata": {},
   "outputs": [],
   "source": [
    "def insertion_sort(data: List[int]) -> None:\n",
    "    \"\"\"Sorting an array in place using insertion sort.\"\"\"\n",
    "    # loop over len(data) - 1 elements\n",
    "    for next in range(1, len(data)):\n",
    "        insert = data[next] # value to insert\n",
    "        move_item = next    # location to place element\n",
    "\n",
    "        # search for place to put current element\n",
    "        while move_item > 0 and data[move_item - 1] > insert:\n",
    "            # shift element right one slot\n",
    "            data[move_item] = data[move_item - 1]\n",
    "            move_item -= 1\n",
    "\n",
    "        data[move_item] = insert # place inserted element\n",
    "\n",
    "\n",
    "def recursive_insertion_sort(toSort: List[int], sorted: List[int] = []) -> List[int]:\n",
    "    \"\"\"Recursive implementation of insertion sort\"\"\"\n",
    "    if len(toSort) == 0: # empty lists are sorted\n",
    "        return sorted\n",
    "    else:\n",
    "        head, *tail = toSort\n",
    "        sorted = recursive_insertion(head, sorted) # insert the head into the sorted list\n",
    "        return recursive_insertion_sort(tail, sorted) # recursive call to sort the remainder\n",
    "\n",
    "\n",
    "def recursive_insertion(element: int, data: List[int]) -> List[int]:\n",
    "    \"\"\"Assistant function to recursive insertion sort; recursively insert into a list\"\"\"\n",
    "    if len(data) == 0: # if the list is empty, the element should be place there anyway\n",
    "        return [element]\n",
    "    else:\n",
    "        head, *tail = data\n",
    "        if element < head: # when the element is smaller than the head of the insertion list\n",
    "            return [element, head] + tail # place it on the front\n",
    "        else:\n",
    "            return [head] + recursive_insertion(element, tail) # else, keep the head separate, and recursively insert into the tail"
   ]
  },
  {
   "cell_type": "markdown",
   "metadata": {},
   "source": [
    "# Merge Sort\n",
    "Merge sort is een efficient sorteeralgoritme, maar is conceptueel complexer om te begrijpen dan selection sort of insertion sort. Het merge sort algoritme sorteert door de array te splitsen in twee (ongeveer) evengrote subarrays. Het sorteert beide subarrays, en voegt ze dan samen in één grote array. De lastigheid zit natuurlijk in het samenvoegen."
   ]
  },
  {
   "cell_type": "code",
   "execution_count": 6,
   "metadata": {},
   "outputs": [],
   "source": [
    " array1= [14,30,34,56,77]\n",
    " array2= [15,20,51,52,93]"
   ]
  },
  {
   "cell_type": "code",
   "execution_count": 7,
   "metadata": {},
   "outputs": [],
   "source": [
    "def merge_sort(xs: List[int]) -> None:\n",
    "    \"\"\"In place merge sort of array without recursive. The basic idea\n",
    "    is to avoid the recursive call while using iterative solution.\n",
    "    The algorithm first merge chunk of length of 2, then merge chunks\n",
    "    of length 4, then 8, 16, .... , until 2^k where 2^k is large than\n",
    "    the length of the array\n",
    "    \"\"\"\n",
    "\n",
    "    unit = 1\n",
    "    while unit <= len(xs):\n",
    "        h = 0\n",
    "        for h in range(0, len(xs), unit * 2):\n",
    "            l, r = h, min(len(xs), h + 2 * unit)\n",
    "            mid = h + unit\n",
    "            # merge xs[h:h + 2 * unit]\n",
    "            p, q = l, mid\n",
    "            while p < mid and q < r:\n",
    "                # use <= for stable merge merge\n",
    "                if xs[p] <= xs[q]:\n",
    "                    p += 1\n",
    "                else:\n",
    "                    tmp = xs[q]\n",
    "                    xs[p + 1: q + 1] = xs[p:q]\n",
    "                    xs[p] = tmp\n",
    "                    p, mid, q = p + 1, mid + 1, q + 1\n",
    "\n",
    "        unit *= 2"
   ]
  },
  {
   "cell_type": "code",
   "execution_count": 8,
   "metadata": {},
   "outputs": [],
   "source": [
    "def merge_arrays(array1: List[int], array2: List[int]) -> List[int]:\n",
    "    \"\"\"Recursively merge two arrays into one sorted array\"\"\"\n",
    "    if len(array1) == len(array2) == 0: # done when both arrays are empty\n",
    "        return []\n",
    "    else:\n",
    "        if len(array1) == 0: # if either array is empty\n",
    "            head, *tail = array2\n",
    "            return [head] + merge_arrays(array1, tail) # merge the remainder of the non-empty list\n",
    "        elif len(array2) == 0: # idem for the other array\n",
    "            head, *tail = array1\n",
    "            return [head] + merge_arrays(tail, array2)\n",
    "        else: # when both still have elements\n",
    "            head1, *tail1 = array1\n",
    "            head2, *tail2 = array2\n",
    "            if head1 < head2: # select the smallest\n",
    "                return [head1] + merge_arrays(tail1, array2) # and merge with the remainder\n",
    "            else:\n",
    "                return [head2] + merge_arrays(array1, tail2) # idem for when array 2 had the smaller element\n",
    "\n",
    "\n",
    "def recursive_merge_sort(data: List[int]) -> List[int]:\n",
    "    \"\"\"Recursive merge sort implementation for sorting arrays\"\"\"\n",
    "    if len(data) == 1: # arrays with 1 element are sorted\n",
    "        return data\n",
    "    else:\n",
    "        middle = int(len(data)/2) # find the middle (round down if len(data) is odd)\n",
    "        first, second = data[:middle], data[middle:] # split the list in half\n",
    "        return merge_arrays(recursive_merge_sort(first), recursive_merge_sort(second)) # merge_sort both arrays, and merge them into the result"
   ]
  },
  {
   "cell_type": "markdown",
   "metadata": {},
   "source": [
    "# Opdrachten\n",
    "1. a. Maak een tabel met de meetwaarden van de volgende tests (schrijf de benodigde code om deze tests uit te kunnen voeren):\n",
    "     Genereer random lijsten van lengtes 1'000, 10'000 en 30'000 items. Hoe lang heeft elk algoritme nodig om deze te sorteren?\n",
    "\n",
    "    b. Genereer een (gesorteerde) lijst van 30'000 items. Hoe lang heeft elk algoritme nodig om deze te sorteren?\n",
    "\n",
    "    c. Draai de gesorteerde lijst van 30'000 items van de vorige vraag achterstevoren (list.reverse()). Hoe lang heeft elk algoritme nodig om deze te sorteren?\n"
   ]
  },
  {
   "cell_type": "markdown",
   "metadata": {},
   "source": [
    "# A"
   ]
  },
  {
   "cell_type": "code",
   "execution_count": 9,
   "metadata": {},
   "outputs": [
    {
     "name": "stdout",
     "output_type": "stream",
     "text": [
      "[71, 90, 24, 98, 80, 32, 54, 39, 41, 20] 1000\n",
      "[77, 22, 24, 43, 42, 45, 13, 19, 36, 89] 10000\n",
      "[59, 84, 27, 45, 89, 59, 14, 49, 13, 25] 30000\n"
     ]
    }
   ],
   "source": [
    "print(randomlist1k[:10], len(randomlist1k))\n",
    "print(randomlist10k[:10], len(randomlist10k))\n",
    "print(randomlist30k[:10], len(randomlist30k))"
   ]
  },
  {
   "cell_type": "code",
   "execution_count": 10,
   "metadata": {},
   "outputs": [],
   "source": [
    "start = timer()\n",
    "selection_sort(randomlist1k.copy())\n",
    "elapsed_time_selection_sort1k = timer() - start\n",
    "\n",
    "start = timer()\n",
    "insertion_sort(randomlist1k.copy())\n",
    "elapsed_time_insertion_sort1k = timer() - start\n",
    "\n",
    "start = timer()\n",
    "merge_sort(randomlist1k.copy())\n",
    "elapsed_time_merge_sort1k = timer() - start"
   ]
  },
  {
   "cell_type": "code",
   "execution_count": 11,
   "metadata": {},
   "outputs": [],
   "source": [
    "start = timer()\n",
    "selection_sort(randomlist10k.copy())\n",
    "elapsed_time_selection_sort10k = timer() - start\n",
    "\n",
    "start = timer()\n",
    "insertion_sort(randomlist10k.copy())\n",
    "elapsed_time_insertion_sort10k = timer() - start\n",
    "\n",
    "start = timer()\n",
    "merge_sort(randomlist10k.copy())\n",
    "elapsed_time_merge_sort10k = timer() - start"
   ]
  },
  {
   "cell_type": "code",
   "execution_count": 12,
   "metadata": {},
   "outputs": [],
   "source": [
    "start = timer()\n",
    "selection_sort(randomlist30k.copy())\n",
    "elapsed_time_selection_sort30k = timer() - start\n",
    "\n",
    "start = timer()\n",
    "insertion_sort(randomlist30k.copy())\n",
    "elapsed_time_insertion_sort30k = timer() - start\n",
    "\n",
    "start = timer()\n",
    "merge_sort(randomlist30k.copy())\n",
    "elapsed_time_merge_sort30k = timer() - start"
   ]
  },
  {
   "cell_type": "code",
   "execution_count": 13,
   "metadata": {
    "scrolled": true
   },
   "outputs": [],
   "source": [
    "algcomp = {'selection_sort times': [elapsed_time_selection_sort1k, elapsed_time_selection_sort10k, elapsed_time_selection_sort30k],\n",
    "            'insertion_sort times':[elapsed_time_insertion_sort1k,elapsed_time_insertion_sort10k ,elapsed_time_insertion_sort30k],\n",
    "            'merge_sort times' : [elapsed_time_merge_sort1k    ,elapsed_time_merge_sort10k     ,elapsed_time_merge_sort30k]}"
   ]
  },
  {
   "cell_type": "code",
   "execution_count": 14,
   "metadata": {
    "scrolled": true
   },
   "outputs": [
    {
     "data": {
      "text/plain": [
       "<AxesSubplot:>"
      ]
     },
     "execution_count": 14,
     "metadata": {},
     "output_type": "execute_result"
    },
    {
     "data": {
      "image/png": "[encoded data removed]",
      "text/plain": [
       "<Figure size 432x288 with 1 Axes>"
      ]
     },
     "metadata": {
      "needs_background": "light"
     },
     "output_type": "display_data"
    }
   ],
   "source": [
    "sns.lineplot(data = algcomp)"
   ]
  },
  {
   "cell_type": "code",
   "execution_count": 15,
   "metadata": {},
   "outputs": [
    {
     "name": "stdout",
     "output_type": "stream",
     "text": [
      "selection_sort(randomlist1k) 0.02234819999999993\n",
      "insertion_sort(randomlist1k) 0.027418300000000118\n",
      "merge_sort(randomlist1k) 0.003014199999999967\n",
      "\n",
      "selection_sort(randomlist10k) 2.0854848\n",
      "insertion_sort(randomlist10k) 3.1461927\n",
      "merge_sort(randomlist10k) 0.11348229999999937\n",
      "\n",
      "selection_sort(randomlist30k) 18.418281\n",
      "insertion_sort(randomlist30k) 26.775124400000003\n",
      "merge_sort(randomlist30k) 0.8997758000000005\n"
     ]
    }
   ],
   "source": [
    "print('selection_sort(randomlist1k)', elapsed_time_selection_sort1k)\n",
    "print('insertion_sort(randomlist1k)', elapsed_time_insertion_sort1k)\n",
    "print('merge_sort(randomlist1k)', elapsed_time_merge_sort1k)\n",
    "print()\n",
    "print('selection_sort(randomlist10k)', elapsed_time_selection_sort10k)\n",
    "print('insertion_sort(randomlist10k)', elapsed_time_insertion_sort10k)\n",
    "print('merge_sort(randomlist10k)', elapsed_time_merge_sort10k)\n",
    "print()\n",
    "print('selection_sort(randomlist30k)', elapsed_time_selection_sort30k)\n",
    "print('insertion_sort(randomlist30k)', elapsed_time_insertion_sort30k)\n",
    "print('merge_sort(randomlist30k)', elapsed_time_merge_sort30k)"
   ]
  },
  {
   "cell_type": "markdown",
   "metadata": {},
   "source": [
    "# B"
   ]
  },
  {
   "cell_type": "code",
   "execution_count": 16,
   "metadata": {},
   "outputs": [
    {
     "name": "stdout",
     "output_type": "stream",
     "text": [
      "[0, 1, 2, 3, 4, 5, 6, 7, 8, 9] 30000\n"
     ]
    }
   ],
   "source": [
    "\n",
    "print(sortedlist30k[:10], len(sortedlist30k))"
   ]
  },
  {
   "cell_type": "code",
   "execution_count": 17,
   "metadata": {},
   "outputs": [],
   "source": [
    "start = timer()\n",
    "selection_sort(sortedlist30k.copy())\n",
    "elapsed_time_selection_sort30k_sorted = timer() - start\n",
    "\n",
    "start = timer()\n",
    "insertion_sort(sortedlist30k.copy())\n",
    "elapsed_time_insertion_sort30k_sorted = timer() - start\n",
    "\n",
    "start = timer()\n",
    "merge_sort(sortedlist30k.copy())\n",
    "elapsed_time_merge_sort30k_sorted = timer() - start"
   ]
  },
  {
   "cell_type": "code",
   "execution_count": 18,
   "metadata": {
    "scrolled": false
   },
   "outputs": [
    {
     "name": "stdout",
     "output_type": "stream",
     "text": [
      "selection_sort(randomlist30k) 16.418602500000006\n",
      "insertion_sort(randomlist30k) 0.0028618000000051325\n",
      "merge_sort(randomlist30k) 0.023134799999994016\n"
     ]
    }
   ],
   "source": [
    "print('selection_sort(randomlist30k)', elapsed_time_selection_sort30k_sorted)\n",
    "print('insertion_sort(randomlist30k)', elapsed_time_insertion_sort30k_sorted)\n",
    "print('merge_sort(randomlist30k)', elapsed_time_merge_sort30k_sorted)"
   ]
  },
  {
   "cell_type": "markdown",
   "metadata": {},
   "source": [
    "# C"
   ]
  },
  {
   "cell_type": "code",
   "execution_count": 19,
   "metadata": {},
   "outputs": [],
   "source": [
    "reversed_sortedlist = sortedlist30k[::-1]"
   ]
  },
  {
   "cell_type": "code",
   "execution_count": 20,
   "metadata": {},
   "outputs": [
    {
     "name": "stdout",
     "output_type": "stream",
     "text": [
      "[29999, 29998, 29997, 29996, 29995, 29994, 29993, 29992, 29991, 29990] 30000\n"
     ]
    }
   ],
   "source": [
    "print(reversed_sortedlist[:10], len(reversed_sortedlist))"
   ]
  },
  {
   "cell_type": "code",
   "execution_count": 21,
   "metadata": {},
   "outputs": [],
   "source": [
    "start = timer()\n",
    "selection_sort(reversed_sortedlist.copy())\n",
    "elapsed_time_selection_sort30k_sorted_rev = timer() - start\n",
    "\n",
    "start = timer()\n",
    "insertion_sort(reversed_sortedlist.copy())\n",
    "elapsed_time_insertion_sort30k_sorted_rev = timer() - start\n",
    "\n",
    "start = timer()\n",
    "merge_sort(reversed_sortedlist.copy())\n",
    "elapsed_time_merge_sort30k_sorted_rev = timer() - start"
   ]
  },
  {
   "cell_type": "code",
   "execution_count": 22,
   "metadata": {},
   "outputs": [
    {
     "name": "stdout",
     "output_type": "stream",
     "text": [
      "selection_sort(randomlist30k) 17.444159299999995\n",
      "insertion_sort(randomlist30k) 55.687974800000006\n",
      "merge_sort(randomlist30k) 1.303888900000004\n"
     ]
    }
   ],
   "source": [
    "print('selection_sort(randomlist30k)', elapsed_time_selection_sort30k_sorted_rev)\n",
    "print('insertion_sort(randomlist30k)', elapsed_time_insertion_sort30k_sorted_rev)\n",
    "print('merge_sort(randomlist30k)', elapsed_time_merge_sort30k_sorted_rev)"
   ]
  },
  {
   "cell_type": "markdown",
   "metadata": {},
   "source": [
    "# 2\n",
    "Bekijk / bepaal aan de hand van de algoritmes (en beschrijvingen) hierboven, wat de theoretische run time efficiëntie (Big O) van elk van deze algoritmes is. Bepaal hiervoor 'best case', 'worst case' en 'average case' run time efficiëntie."
   ]
  },
  {
   "cell_type": "markdown",
   "metadata": {},
   "source": [
    "\n",
    "###### selection_sort\n",
    "\n",
    "https://en.wikipedia.org/wiki/Selection_sort\n",
    "\n",
    "best case\n",
    "\n",
    "$\\mathcal{O}(n ^{2})$\n",
    "\n",
    "worst case\n",
    "\n",
    "$\\mathcal{O}(n ^{2})$\n",
    "\n",
    "average case\n",
    "\n",
    "$\\mathcal{O}(n ^{2})$\n",
    "\n",
    "###### insertion_sort\n",
    "\n",
    "best case\n",
    "\n",
    "$\\mathcal{O}(n)$\n",
    "\n",
    "worst case\n",
    "\n",
    "$\\mathcal{O}(n ^{2})$\n",
    "\n",
    "average case\n",
    "\n",
    "$\\mathcal{O}(n ^{2})$\n",
    "\n",
    "###### merge_sort\n",
    "\n",
    "https://en.wikipedia.org/wiki/Merge_sort\n",
    "\n",
    "best case\n",
    "\n",
    "$\\mathcal{O}(n\\log{}n)$\n",
    "\n",
    "worst case\n",
    "\n",
    "$\\mathcal{O}(n\\log{}n)$\n",
    "\n",
    "average case\n",
    "\n",
    "$\\mathcal{O}(n\\log{}n)$"
   ]
  },
  {
   "cell_type": "markdown",
   "metadata": {},
   "source": [
    "# 3\n",
    "Maakt het voor de complexiteit (Big O) van een algoritme uit of je een iteratieve of een recursieve versie beschouwd?"
   ]
  },
  {
   "cell_type": "markdown",
   "metadata": {},
   "source": []
  }
 ],
 "metadata": {
  "kernelspec": {
   "display_name": "Python 3",
   "language": "python",
   "name": "python3"
  },
  "language_info": {
   "codemirror_mode": {
    "name": "ipython",
    "version": 3
   },
   "file_extension": ".py",
   "mimetype": "text/x-python",
   "name": "python",
   "nbconvert_exporter": "python",
   "pygments_lexer": "ipython3",
   "version": "3.8.6"
  }
 },
 "nbformat": 4,
 "nbformat_minor": 4
}
