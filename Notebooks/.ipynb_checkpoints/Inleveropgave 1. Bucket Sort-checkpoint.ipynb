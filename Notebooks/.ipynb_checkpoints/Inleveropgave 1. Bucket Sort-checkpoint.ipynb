{
 "cells": [
  {
   "cell_type": "markdown",
   "metadata": {},
   "source": [
    "# Inleveropgave 1. Bucket Sort\n",
    "\n",
    "Richard Jansen 1762581"
   ]
  },
  {
   "cell_type": "markdown",
   "metadata": {},
   "source": [
    "# Bucket sort pseudo code"
   ]
  },
  {
   "cell_type": "markdown",
   "metadata": {},
   "source": [
    "Een bucket sort begint met een een-dimensionale array van n nummers die gesorteerd worden en een twee-dimensionale array van integers, met rijen genummerd van 0 tot 9 en kolommen geïndexeerd van 0 tot n-1. Elke rij in de twee-dimensionale array heeft een bucket.  Het algoritme werkt dan alsvolgt:\n",
    "\n",
    "1. Plaats elke waarde van de een-dimensionale array in een rij van de bucket array, gebaseerd op het meest rechtse cijfer in het getal (de \"een\"-waarde). Bijvoorbeeld, 97 wordt geplaatst in rij 7, 3 wordt geplaatst in rij 3 en 100 wordt geplaatst in rij 0. Deze stap heet de distribution pass.\n",
    "2. Loop door de bucket array rij voor rij, en kopieer de waardes terug in de originele array. Deze stap heet de gathering pass. De volgorde van de hierboven genoemde getallen is dus nu 100, 3, 97.\n",
    "3. Herhaal dit proces voor elke volgende digit-positie (dus voor de tientallen, honderdtallen, etc.). Na de laatste gathering pass is de array gesorteerd.\n",
    "4. Verzin een aanpassing als oplossing voor de negatieve getallen, maar maak ook hierbij gebruik van een distribution en gathering pass\n",
    "\n",
    "\n",
    "## Opdracht\n",
    "1. Schrijf een implementatie van het bovenstaande Bucket Sort algoritme voor het sorteren van gehele getallen $ x \\in \\mathbb{Z} x ∈ Z$  .\n",
    "2. Benader zo precies mogelijk de de tijds- en ruimtecomplexiteit van je algoritme. (Dus niet m.b.v. asymptotische notatie)\n",
    "3. Bepaal, net als eerder, op basis van een test en door analyse, de Big O waarde van Bucket Sort.\n",
    "4. Extra: Maak je BucketSort implementatie ook geschikt voor het sorteren van getallen met cijfers achter de komma $ x \\in\\mathbb{R}x ∈ R $\n",
    "5. Extra: Laat bij je analyse zien dat je onderzoek hebt gedaan over wat wel en niet mee te nemen in je analyse (is een variable assignment een stap? hoeveel ruimte kost je datastructuur?)\n",
    "6. Extra: Overleg met je docent als je andere ideeën hebt of deze kunnen gelden als extra voor een hoger cijfer\n",
    "\n",
    "#### Aanvulling van de docent\n",
    "\n",
    "![](https://cdn.discordapp.com/attachments/663809977508429834/806859221298839622/unknown.png)"
   ]
  },
  {
   "cell_type": "markdown",
   "metadata": {},
   "source": [
    "# Setup and imports"
   ]
  },
  {
   "cell_type": "code",
   "execution_count": 47,
   "metadata": {},
   "outputs": [],
   "source": [
    "from timeit import default_timer as timer\n",
    "import seaborn as sns\n",
    "import matplotlib.pyplot as plt\n",
    "import numpy as np\n",
    "import random"
   ]
  },
  {
   "cell_type": "code",
   "execution_count": 2,
   "metadata": {},
   "outputs": [],
   "source": [
    "randomlist1k  = list(np.random.randint(low=0, high=1000, size=1000))\n",
    "randomlist10k = list(np.random.randint(low=0, high=1000, size=10000))\n",
    "randomlist30k = list(np.random.randint(low=0, high=1000, size=30000))"
   ]
  },
  {
   "cell_type": "code",
   "execution_count": 3,
   "metadata": {},
   "outputs": [],
   "source": [
    "def createRandomList(low, high, size):\n",
    "    return list(np.random.randint(low=low, high=high, size=size))"
   ]
  },
  {
   "cell_type": "code",
   "execution_count": 4,
   "metadata": {},
   "outputs": [
    {
     "data": {
      "text/plain": [
       "[2, 5, 0, 2, 8, 0, 1, 8, 8, 2]"
      ]
     },
     "execution_count": 4,
     "metadata": {},
     "output_type": "execute_result"
    }
   ],
   "source": [
    "createRandomList(0,10,10)"
   ]
  },
  {
   "cell_type": "code",
   "execution_count": 5,
   "metadata": {},
   "outputs": [],
   "source": [
    "def split_list(input_list:[int]) -> [[int]]:\n",
    "    neg_values_abs = [abs(ele) for ele in input_list if ele < 0] \n",
    "    pos_values = [ele for ele in input_list if ele > 0]\n",
    "    return [neg_values_abs,pos_values]\n",
    "    \n",
    "\n",
    "def bucket_sort(input_list: [int]) -> [int]:\n",
    "        \n",
    "    return_list = []\n",
    "    list_values = split_list(input_list)\n",
    "    \n",
    "    for value in list_values:\n",
    "        if value == []:\n",
    "            return_list.append([])\n",
    "            continue\n",
    "        input_list = value    \n",
    "        longest_digit = len(str(max(input_list)))\n",
    "\n",
    "        # The number system can be changed to other systems like binairy, decimal, hexidecimal, etc\n",
    "        number_system = 10\n",
    "        digit_index = 10  \n",
    "\n",
    "        #The legth of the digits\n",
    "        for i in range(longest_digit):\n",
    "    #         print(input_list, i)\n",
    "\n",
    "            # Create new buckets each time\n",
    "            buckets_list = [[] for _ in range(10)]\n",
    "\n",
    "            for number in input_list:\n",
    "                #First attempt code, Don't delelte plz :c\n",
    "    #             buckets_list[int(str(number).zfill(longest_digit)[-i+1:-i+1+1])].append(number)\n",
    "    #             buckets_list[int(str(number).zfill(longest_digit)[i-1])].append(number)\n",
    "\n",
    "                # Check the digit index position by checking the left over digits (modulo) from 1 index to the left\n",
    "                # Check how many times the most left number from the left over fits in the numsystem index\n",
    "                buckets_list[(number % digit_index) // (digit_index // number_system)].append(number)\n",
    "            digit_index = digit_index * 10 \n",
    "\n",
    "            # Clear input list and add bucket values to it\n",
    "            input_list = []\n",
    "            for bucket in buckets_list:\n",
    "                input_list += [i for i in bucket]\n",
    "        return_list.append(input_list)\n",
    "\n",
    "    return_list[0] = [ -x for x in return_list[0]][::-1]\n",
    "\n",
    "    return return_list[0]+return_list[1]\n",
    "    "
   ]
  },
  {
   "cell_type": "markdown",
   "metadata": {},
   "source": [
    "# Example\n",
    "\n",
    "We hebben 3165 als getal en willen de 3e index vanaf rechts hebben.\n",
    "\n",
    "Dat is dus 1\n",
    "\n",
    "De code hier onder laat zien hoe dat werkt"
   ]
  },
  {
   "cell_type": "code",
   "execution_count": 10,
   "metadata": {},
   "outputs": [
    {
     "name": "stdout",
     "output_type": "stream",
     "text": [
      "165\n",
      "100\n",
      "1\n"
     ]
    }
   ],
   "source": [
    "print(3165 % 1000)\n",
    "print(1000 // 10)\n",
    "print((3165 % 1000) // (1000 // 10))"
   ]
  },
  {
   "cell_type": "markdown",
   "metadata": {},
   "source": [
    "# Algoritme testen"
   ]
  },
  {
   "cell_type": "markdown",
   "metadata": {},
   "source": [
    "###### Setup random lists"
   ]
  },
  {
   "cell_type": "code",
   "execution_count": 12,
   "metadata": {},
   "outputs": [
    {
     "name": "stdout",
     "output_type": "stream",
     "text": [
      "randomlist1dec [7, 1, 7, 9, 5, 8, 2, 0, 1, 4, 2, 3, 1, 0, 6]\n",
      "randomlist2dec [44, 87, 65, 73, 2, 78, 76, 37, 97, 38, 68, 22, 35, 5, 45]\n",
      "randomlist3dec [438, 108, 578, 1, 886, 539, 638, 177, 375, 479, 146, 791, 226, 113, 556]\n",
      "randomlist2dec_neg [-81, -27, -52, 28, -91, 31, 74, -89, 39, 78, -9, 73, -65, 38, 36]\n"
     ]
    }
   ],
   "source": [
    "randomlist1dec = createRandomList(0, 10, 15)\n",
    "randomlist2dec = createRandomList(0, 100, 15)\n",
    "randomlist3dec = createRandomList(0, 1000, 15)\n",
    "\n",
    "randomlist2dec_neg = createRandomList(-100, 100, 15)\n",
    "print(f\"randomlist1dec {randomlist1dec}\")\n",
    "print(f\"randomlist2dec {randomlist2dec}\")\n",
    "print(f\"randomlist3dec {randomlist3dec}\")\n",
    "\n",
    "print(f\"randomlist2dec_neg {randomlist2dec_neg}\")"
   ]
  },
  {
   "cell_type": "code",
   "execution_count": 13,
   "metadata": {
    "scrolled": true
   },
   "outputs": [
    {
     "name": "stdout",
     "output_type": "stream",
     "text": [
      "randomlist1dec = [7, 1, 7, 9, 5, 8, 2, 0, 1, 4, 2, 3, 1, 0, 6] \n",
      "after sort       [1, 1, 1, 2, 2, 3, 4, 5, 6, 7, 7, 8, 9]\n",
      "\n",
      "randomlist2dec = [44, 87, 65, 73, 2, 78, 76, 37, 97, 38, 68, 22, 35, 5, 45] \n",
      "after sort       [2, 5, 22, 35, 37, 38, 44, 45, 65, 68, 73, 76, 78, 87, 97]\n",
      "\n",
      "randomlist3dec = [438, 108, 578, 1, 886, 539, 638, 177, 375, 479, 146, 791, 226, 113, 556] \n",
      "after sort       [1, 108, 113, 146, 177, 226, 375, 438, 479, 539, 556, 578, 638, 791, 886]\n",
      "\n",
      "randomlist2dec_neg = [-81, -27, -52, 28, -91, 31, 74, -89, 39, 78, -9, 73, -65, 38, 36] \n",
      "after sort           [-91, -89, -81, -65, -52, -27, -9, 28, 31, 36, 38, 39, 73, 74, 78]\n"
     ]
    }
   ],
   "source": [
    "print(f\"randomlist1dec = {randomlist1dec} \\nafter sort       {bucket_sort(randomlist1dec)}\")\n",
    "print()\n",
    "print(f\"randomlist2dec = {randomlist2dec} \\nafter sort       {bucket_sort(randomlist2dec)}\")\n",
    "print()\n",
    "print(f\"randomlist3dec = {randomlist3dec} \\nafter sort       {bucket_sort(randomlist3dec)}\")\n",
    "print()\n",
    "print(f\"randomlist2dec_neg = {randomlist2dec_neg} \\nafter sort           {bucket_sort(randomlist2dec_neg)}\")"
   ]
  },
  {
   "cell_type": "markdown",
   "metadata": {},
   "source": [
    "# Conclusie\n",
    "\n",
    "Het algortime werkt met elke grote van lijsten en ook negatieve getalen ge mixed"
   ]
  },
  {
   "cell_type": "markdown",
   "metadata": {},
   "source": [
    "# tijds- en ruimtecomplexiteit van het algoritme"
   ]
  },
  {
   "cell_type": "markdown",
   "metadata": {},
   "source": [
    "### Time tracker"
   ]
  },
  {
   "cell_type": "code",
   "execution_count": 29,
   "metadata": {},
   "outputs": [],
   "source": [
    "def get_time_complex(list_of_sorting_lists: [[int]]) -> {int : float}:\n",
    "    return_times = []\n",
    "    return_times_dict = {}\n",
    "    for unsorted_list in list_of_sorting_lists:\n",
    "        start = timer()\n",
    "        bucket_sort(unsorted_list)\n",
    "        elapsed_time = timer() - start\n",
    "        \n",
    "        return_times_dict[len(unsorted_list)] =  elapsed_time\n",
    "        return_times.append(elapsed_time)\n",
    "    return return_times_dict"
   ]
  },
  {
   "cell_type": "markdown",
   "metadata": {},
   "source": [
    "### Random unsorted list test"
   ]
  },
  {
   "cell_type": "code",
   "execution_count": 40,
   "metadata": {},
   "outputs": [],
   "source": [
    "low = 0\n",
    "high = 100\n",
    "\n",
    "randomlist1k = createRandomList(low, high, 1000)\n",
    "randomlist5k = createRandomList(low, high, 5000)\n",
    "randomlist10k = createRandomList(low, high, 10000)\n",
    "randomlist15k = createRandomList(low, high, 15000)\n",
    "randomlist20k = createRandomList(low, high, 20000)\n",
    "randomlist25k = createRandomList(low, high, 25000)\n",
    "randomlist30k = createRandomList(low, high, 30000)\n",
    "\n",
    "unsortedlists = [randomlist1k,randomlist5k,randomlist10k,randomlist15k,randomlist20k,randomlist25k,randomlist30k]\n"
   ]
  },
  {
   "cell_type": "code",
   "execution_count": 41,
   "metadata": {
    "scrolled": true
   },
   "outputs": [],
   "source": [
    "time_complex_data = get_time_complex(unsortedlists)"
   ]
  },
  {
   "cell_type": "code",
   "execution_count": 58,
   "metadata": {},
   "outputs": [
    {
     "data": {
      "text/plain": [
       "{1000: 0.0013122000000294065,\n",
       " 5000: 0.006285599999955593,\n",
       " 10000: 0.012345200000027035,\n",
       " 15000: 0.01872519999983524,\n",
       " 20000: 0.025621900000032838,\n",
       " 25000: 0.031778499999973064,\n",
       " 30000: 0.03853460000004816}"
      ]
     },
     "execution_count": 58,
     "metadata": {},
     "output_type": "execute_result"
    }
   ],
   "source": [
    "time_complex_data"
   ]
  },
  {
   "cell_type": "code",
   "execution_count": 57,
   "metadata": {},
   "outputs": [
    {
     "data": {
      "image/png": "[encoded data removed]",
      "text/plain": [
       "<Figure size 432x288 with 1 Axes>"
      ]
     },
     "metadata": {
      "needs_background": "light"
     },
     "output_type": "display_data"
    }
   ],
   "source": [
    "ax = sns.lineplot(data = time_complex_data, legend =\"auto\",label='O(n + k)',markers=True, dashes=False)\n",
    "ax.set(xlabel='N in list', ylabel='time in ms', title ='Time complexity unsorted list')\n",
    "plt.show()"
   ]
  },
  {
   "cell_type": "markdown",
   "metadata": {},
   "source": [
    "## Conclusie unsorted list\n",
    "\n",
    "Te lui om nu te schrijven :O\n",
    "\n",
    "![](https://media0.giphy.com/media/WRQBXSCnEFJIuxktnw/200.gif)"
   ]
  },
  {
   "cell_type": "markdown",
   "metadata": {},
   "source": [
    "### Sorted List Test"
   ]
  },
  {
   "cell_type": "code",
   "execution_count": 70,
   "metadata": {},
   "outputs": [],
   "source": [
    "list1k =  [i for i in range(1000)]\n",
    "list5k =  [i for i in range(5000)]\n",
    "list10k = [i for i in range(10000)]\n",
    "list15k = [i for i in range(15000)]\n",
    "list20k = [i for i in range(20000)]\n",
    "list25k = [i for i in range(25000)]\n",
    "list30k = [i for i in range(30000)]\n",
    "\n",
    "sortedlists = [list1k,list5k,list10k,list15k,list20k,list25k,list30k]"
   ]
  },
  {
   "cell_type": "code",
   "execution_count": 71,
   "metadata": {},
   "outputs": [],
   "source": [
    "time_complex_data_sorted = get_time_complex(sortedlists)"
   ]
  },
  {
   "cell_type": "code",
   "execution_count": 72,
   "metadata": {},
   "outputs": [
    {
     "data": {
      "text/plain": [
       "{1000: 0.0003737000001819979,\n",
       " 5000: 0.0021990999998706684,\n",
       " 10000: 0.004143999999996595,\n",
       " 15000: 0.007657199999812292,\n",
       " 20000: 0.010227199999917502,\n",
       " 25000: 0.012509599999702914,\n",
       " 30000: 0.015023999999812077}"
      ]
     },
     "execution_count": 72,
     "metadata": {},
     "output_type": "execute_result"
    }
   ],
   "source": [
    "time_complex_data_sorted"
   ]
  },
  {
   "cell_type": "code",
   "execution_count": 73,
   "metadata": {},
   "outputs": [
    {
     "data": {
      "image/png": "[encoded data removed]",
      "text/plain": [
       "<Figure size 432x288 with 1 Axes>"
      ]
     },
     "metadata": {
      "needs_background": "light"
     },
     "output_type": "display_data"
    }
   ],
   "source": [
    "ax = sns.lineplot(data = time_complex_data_sorted, legend =\"auto\",label='O(n + k)',markers=True, dashes=False)\n",
    "ax.set(xlabel='N in list', ylabel='time in ms', title ='Time complexity sorted list')\n",
    "plt.show()"
   ]
  },
  {
   "cell_type": "markdown",
   "metadata": {},
   "source": [
    "## Conclusie sorted list\n",
    "\n",
    "Te lui om nu te schrijven :O\n",
    "\n",
    "![](https://media3.giphy.com/media/BmmfETghGOPrW/giphy.gif)"
   ]
  },
  {
   "cell_type": "markdown",
   "metadata": {},
   "source": [
    "### Inverted Sorted List"
   ]
  },
  {
   "cell_type": "code",
   "execution_count": 74,
   "metadata": {},
   "outputs": [],
   "source": [
    "list1kin =  [i for i in range(1000)][::-1]\n",
    "list5kin =  [i for i in range(5000)][::-1]\n",
    "list10kin = [i for i in range(10000)][::-1]\n",
    "list15kin = [i for i in range(15000)][::-1]\n",
    "list20kin = [i for i in range(20000)][::-1]\n",
    "list25kin = [i for i in range(25000)][::-1]\n",
    "list30kin = [i for i in range(30000)][::-1]\n",
    "\n",
    "sortedlistsin = [list1kin,list5kin,list10kin,list15kin,list20kin,list25kin,list30kin]"
   ]
  },
  {
   "cell_type": "code",
   "execution_count": 75,
   "metadata": {},
   "outputs": [],
   "source": [
    "time_complex_data_sortedin = get_time_complex(sortedlistsin)"
   ]
  },
  {
   "cell_type": "code",
   "execution_count": 76,
   "metadata": {},
   "outputs": [
    {
     "data": {
      "text/plain": [
       "{1000: 0.0004423000000315369,\n",
       " 5000: 0.002294199999596458,\n",
       " 10000: 0.004234200000155397,\n",
       " 15000: 0.008119399999941379,\n",
       " 20000: 0.010501799999929062,\n",
       " 25000: 0.013296399999944697,\n",
       " 30000: 0.01634280000007493}"
      ]
     },
     "execution_count": 76,
     "metadata": {},
     "output_type": "execute_result"
    }
   ],
   "source": [
    "time_complex_data_sortedin"
   ]
  },
  {
   "cell_type": "code",
   "execution_count": 78,
   "metadata": {},
   "outputs": [
    {
     "data": {
      "image/png": "[encoded data removed]",
      "text/plain": [
       "<Figure size 432x288 with 1 Axes>"
      ]
     },
     "metadata": {
      "needs_background": "light"
     },
     "output_type": "display_data"
    }
   ],
   "source": [
    "ax = sns.lineplot(data = time_complex_data_sortedin, legend =\"auto\",label='O(n + k)',markers=True, dashes=False)\n",
    "ax.set(xlabel='N in list', ylabel='time in ms', title ='Time complexity sorted inverse list')\n",
    "plt.show()"
   ]
  },
  {
   "cell_type": "markdown",
   "metadata": {},
   "source": [
    "## Conclusie inverted sorted list\n",
    "\n",
    "Te lui om nu te schrijven :O\n",
    "\n",
    "![](https://i.pinimg.com/originals/0a/33/a2/0a33a2970df393257c195c07c5d9adc6.gif)"
   ]
  },
  {
   "cell_type": "markdown",
   "metadata": {},
   "source": [
    "# Conclusie big O\n",
    "\n",
    "https://www.bigocheatsheet.com/\n",
    "\n",
    "best case\n",
    "\n",
    "$\\mathcal{O}(n + k)$\n",
    "\n",
    "worst case\n",
    "\n",
    "$\\mathcal{O}(n ^{2})$\n",
    "\n",
    "average case\n",
    "\n",
    "$\\mathcal{O}(n + k)$"
   ]
  },
  {
   "cell_type": "code",
   "execution_count": null,
   "metadata": {},
   "outputs": [],
   "source": []
  }
 ],
 "metadata": {
  "kernelspec": {
   "display_name": "Python 3",
   "language": "python",
   "name": "python3"
  },
  "language_info": {
   "codemirror_mode": {
    "name": "ipython",
    "version": 3
   },
   "file_extension": ".py",
   "mimetype": "text/x-python",
   "name": "python",
   "nbconvert_exporter": "python",
   "pygments_lexer": "ipython3",
   "version": "3.8.6"
  }
 },
 "nbformat": 4,
 "nbformat_minor": 4
}
