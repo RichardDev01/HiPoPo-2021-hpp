{
 "cells": [
  {
   "cell_type": "markdown",
   "metadata": {},
   "source": [
    "# Inleveropgave 1. Bucket Sort\n",
    "\n",
    "Richard Jansen 1762581"
   ]
  },
  {
   "cell_type": "markdown",
   "metadata": {},
   "source": [
    "# Bucket sort pseudo code"
   ]
  },
  {
   "cell_type": "markdown",
   "metadata": {},
   "source": [
    "Een bucket sort begint met een een-dimensionale array van n nummers die gesorteerd worden en een twee-dimensionale array van integers, met rijen genummerd van 0 tot 9 en kolommen geïndexeerd van 0 tot n-1. Elke rij in de twee-dimensionale array heeft een bucket.  Het algoritme werkt dan alsvolgt:\n",
    "\n",
    "1. Plaats elke waarde van de een-dimensionale array in een rij van de bucket array, gebaseerd op het meest rechtse cijfer in het getal (de \"een\"-waarde). Bijvoorbeeld, 97 wordt geplaatst in rij 7, 3 wordt geplaatst in rij 3 en 100 wordt geplaatst in rij 0. Deze stap heet de distribution pass.\n",
    "2. Loop door de bucket array rij voor rij, en kopieer de waardes terug in de originele array. Deze stap heet de gathering pass. De volgorde van de hierboven genoemde getallen is dus nu 100, 3, 97.\n",
    "3. Herhaal dit proces voor elke volgende digit-positie (dus voor de tientallen, honderdtallen, etc.). Na de laatste gathering pass is de array gesorteerd.\n",
    "4. Verzin een aanpassing als oplossing voor de negatieve getallen, maar maak ook hierbij gebruik van een distribution en gathering pass\n",
    "\n",
    "\n",
    "## Opdracht\n",
    "1. Schrijf een implementatie van het bovenstaande Bucket Sort algoritme voor het sorteren van gehele getallen $ x \\in \\mathbb{Z} x ∈ Z$  .\n",
    "2. Benader zo precies mogelijk de de tijds- en ruimtecomplexiteit van je algoritme. (Dus niet m.b.v. asymptotische notatie)\n",
    "3. Bepaal, net als eerder, op basis van een test en door analyse, de Big O waarde van Bucket Sort.\n",
    "4. Extra: Maak je BucketSort implementatie ook geschikt voor het sorteren van getallen met cijfers achter de komma $ x \\in\\mathbb{R}x ∈ R $\n",
    "5. Extra: Laat bij je analyse zien dat je onderzoek hebt gedaan over wat wel en niet mee te nemen in je analyse (is een variable assignment een stap? hoeveel ruimte kost je datastructuur?)\n",
    "6. Extra: Overleg met je docent als je andere ideeën hebt of deze kunnen gelden als extra voor een hoger cijfer\n",
    "\n",
    "#### Aanvulling van de docent\n",
    "\n",
    "![](https://cdn.discordapp.com/attachments/663809977508429834/806859221298839622/unknown.png)"
   ]
  },
  {
   "cell_type": "markdown",
   "metadata": {},
   "source": [
    "# Setup and imports"
   ]
  },
  {
   "cell_type": "code",
   "execution_count": 1,
   "metadata": {},
   "outputs": [],
   "source": [
    "from timeit import default_timer as timer\n",
    "import seaborn as sns\n",
    "import matplotlib.pyplot as plt\n",
    "import numpy as np\n",
    "import random"
   ]
  },
  {
   "cell_type": "code",
   "execution_count": 2,
   "metadata": {},
   "outputs": [],
   "source": [
    "randomlist1k  = list(np.random.randint(low=0, high=1000, size=1000))\n",
    "randomlist10k = list(np.random.randint(low=0, high=1000, size=10000))\n",
    "randomlist30k = list(np.random.randint(low=0, high=1000, size=30000))"
   ]
  },
  {
   "cell_type": "code",
   "execution_count": 3,
   "metadata": {},
   "outputs": [],
   "source": [
    "def createRandomList(low, high, size):\n",
    "    return list(np.random.randint(low=low, high=high, size=size))"
   ]
  },
  {
   "cell_type": "code",
   "execution_count": 5,
   "metadata": {},
   "outputs": [],
   "source": [
    "def split_list(input_list:[int]) -> [[int]]:\n",
    "    neg_values_abs = [abs(ele) for ele in input_list if ele < 0] \n",
    "    pos_values = [ele for ele in input_list if ele > 0]\n",
    "    return [neg_values_abs,pos_values]\n",
    "    \n",
    "\n",
    "def bucket_sort(input_list: [int]) -> [int]:\n",
    "        \n",
    "    return_list = []\n",
    "    list_values = split_list(input_list)\n",
    "    \n",
    "    for value in list_values:\n",
    "        if value == []:\n",
    "            return_list.append([])\n",
    "            continue\n",
    "        input_list = value    \n",
    "        longest_digit = len(str(max(input_list)))\n",
    "\n",
    "        # The number system can be changed to other systems like binairy, decimal, hexidecimal, etc\n",
    "        number_system = 10\n",
    "        digit_index = 10  \n",
    "\n",
    "        #The legth of the digits\n",
    "        for i in range(longest_digit):\n",
    "    #         print(input_list, i)\n",
    "\n",
    "            # Create new buckets each time\n",
    "            buckets_list = [[] for _ in range(10)]\n",
    "\n",
    "            for number in input_list:\n",
    "                #First attempt code, Don't delelte plz :c\n",
    "    #             buckets_list[int(str(number).zfill(longest_digit)[-i+1:-i+1+1])].append(number)\n",
    "    #             buckets_list[int(str(number).zfill(longest_digit)[i-1])].append(number)\n",
    "\n",
    "                # Check the digit index position by checking the left over digits (modulo) from 1 index to the left\n",
    "                # Check how many times the most left number from the left over fits in the numsystem index\n",
    "                buckets_list[(number % digit_index) // (digit_index // number_system)].append(number)\n",
    "            digit_index = digit_index * 10 \n",
    "\n",
    "            # Clear input list and add bucket values to it\n",
    "            input_list = []\n",
    "            for bucket in buckets_list:\n",
    "                input_list += [i for i in bucket]\n",
    "        return_list.append(input_list)\n",
    "\n",
    "    return_list[0] = [ -x for x in return_list[0]][::-1]\n",
    "\n",
    "    return return_list[0]+return_list[1]\n",
    "    "
   ]
  },
  {
   "cell_type": "markdown",
   "metadata": {},
   "source": [
    "# Example\n",
    "\n",
    "We hebben 3165 als getal en willen de 3e index vanaf rechts hebben.\n",
    "\n",
    "Dat is dus 1\n",
    "\n",
    "De code hier onder laat zien hoe dat werkt"
   ]
  },
  {
   "cell_type": "code",
   "execution_count": 6,
   "metadata": {},
   "outputs": [
    {
     "name": "stdout",
     "output_type": "stream",
     "text": [
      "165\n",
      "100\n",
      "1\n"
     ]
    }
   ],
   "source": [
    "print(3165 % 1000)\n",
    "print(1000 // 10)\n",
    "print((3165 % 1000) // (1000 // 10))"
   ]
  },
  {
   "cell_type": "markdown",
   "metadata": {},
   "source": [
    "# Algoritme testen"
   ]
  },
  {
   "cell_type": "markdown",
   "metadata": {},
   "source": [
    "###### Setup random lists"
   ]
  },
  {
   "cell_type": "code",
   "execution_count": 7,
   "metadata": {},
   "outputs": [
    {
     "name": "stdout",
     "output_type": "stream",
     "text": [
      "randomlist1dec [2, 0, 3, 8, 1, 8, 0, 3, 3, 2, 0, 5, 1, 0, 1]\n",
      "randomlist2dec [17, 43, 77, 52, 90, 77, 24, 65, 82, 87, 3, 47, 64, 93, 62]\n",
      "randomlist3dec [660, 968, 593, 768, 635, 307, 319, 881, 22, 543, 888, 274, 953, 707, 186]\n",
      "randomlist2dec_neg [11, -81, 46, -40, 38, -16, -67, -18, -62, 96, -19, -96, -79, 56, -5]\n"
     ]
    }
   ],
   "source": [
    "randomlist1dec = createRandomList(0, 10, 15)\n",
    "randomlist2dec = createRandomList(0, 100, 15)\n",
    "randomlist3dec = createRandomList(0, 1000, 15)\n",
    "\n",
    "randomlist2dec_neg = createRandomList(-100, 100, 15)\n",
    "print(f\"randomlist1dec {randomlist1dec}\")\n",
    "print(f\"randomlist2dec {randomlist2dec}\")\n",
    "print(f\"randomlist3dec {randomlist3dec}\")\n",
    "\n",
    "print(f\"randomlist2dec_neg {randomlist2dec_neg}\")"
   ]
  },
  {
   "cell_type": "code",
   "execution_count": 8,
   "metadata": {
    "scrolled": true
   },
   "outputs": [
    {
     "name": "stdout",
     "output_type": "stream",
     "text": [
      "randomlist1dec = [2, 0, 3, 8, 1, 8, 0, 3, 3, 2, 0, 5, 1, 0, 1] \n",
      "after sort       [1, 1, 1, 2, 2, 3, 3, 3, 5, 8, 8]\n",
      "\n",
      "randomlist2dec = [17, 43, 77, 52, 90, 77, 24, 65, 82, 87, 3, 47, 64, 93, 62] \n",
      "after sort       [3, 17, 24, 43, 47, 52, 62, 64, 65, 77, 77, 82, 87, 90, 93]\n",
      "\n",
      "randomlist3dec = [660, 968, 593, 768, 635, 307, 319, 881, 22, 543, 888, 274, 953, 707, 186] \n",
      "after sort       [22, 186, 274, 307, 319, 543, 593, 635, 660, 707, 768, 881, 888, 953, 968]\n",
      "\n",
      "randomlist2dec_neg = [11, -81, 46, -40, 38, -16, -67, -18, -62, 96, -19, -96, -79, 56, -5] \n",
      "after sort           [-96, -81, -79, -67, -62, -40, -19, -18, -16, -5, 11, 38, 46, 56, 96]\n"
     ]
    }
   ],
   "source": [
    "print(f\"randomlist1dec = {randomlist1dec} \\nafter sort       {bucket_sort(randomlist1dec)}\")\n",
    "print()\n",
    "print(f\"randomlist2dec = {randomlist2dec} \\nafter sort       {bucket_sort(randomlist2dec)}\")\n",
    "print()\n",
    "print(f\"randomlist3dec = {randomlist3dec} \\nafter sort       {bucket_sort(randomlist3dec)}\")\n",
    "print()\n",
    "print(f\"randomlist2dec_neg = {randomlist2dec_neg} \\nafter sort           {bucket_sort(randomlist2dec_neg)}\")"
   ]
  },
  {
   "cell_type": "markdown",
   "metadata": {},
   "source": [
    "# Conclusie\n",
    "\n",
    "Het algortime werkt met elke grote van lijsten en ook negatieve getalen ge mixed"
   ]
  },
  {
   "cell_type": "markdown",
   "metadata": {},
   "source": [
    "# tijds- en ruimtecomplexiteit van het algoritme"
   ]
  },
  {
   "cell_type": "markdown",
   "metadata": {},
   "source": [
    "### Time tracker"
   ]
  },
  {
   "cell_type": "code",
   "execution_count": 9,
   "metadata": {},
   "outputs": [],
   "source": [
    "def get_time_complex(list_of_sorting_lists: [[int]]) -> {int : float}:\n",
    "    \n",
    "    return_times_dict = {}\n",
    "    for unsorted_list in list_of_sorting_lists:\n",
    "        start = timer()\n",
    "        bucket_sort(unsorted_list)\n",
    "        elapsed_time = timer() - start\n",
    "        \n",
    "        return_times_dict[len(unsorted_list)] =  elapsed_time\n",
    "        return_times.append(elapsed_time)\n",
    "    return return_times_dict"
   ]
  },
  {
   "cell_type": "markdown",
   "metadata": {},
   "source": [
    "### Random unsorted list test"
   ]
  },
  {
   "cell_type": "code",
   "execution_count": 10,
   "metadata": {},
   "outputs": [],
   "source": [
    "low = 0\n",
    "high = 100\n",
    "\n",
    "randomlist1k = createRandomList(low, high, 1000)\n",
    "randomlist5k = createRandomList(low, high, 5000)\n",
    "randomlist10k = createRandomList(low, high, 10000)\n",
    "randomlist15k = createRandomList(low, high, 15000)\n",
    "randomlist20k = createRandomList(low, high, 20000)\n",
    "randomlist25k = createRandomList(low, high, 25000)\n",
    "randomlist30k = createRandomList(low, high, 30000)\n",
    "\n",
    "unsortedlists = [randomlist1k,randomlist5k,randomlist10k,randomlist15k,randomlist20k,randomlist25k,randomlist30k]\n"
   ]
  },
  {
   "cell_type": "code",
   "execution_count": 11,
   "metadata": {
    "scrolled": true
   },
   "outputs": [],
   "source": [
    "time_complex_data = get_time_complex(unsortedlists)"
   ]
  },
  {
   "cell_type": "code",
   "execution_count": 12,
   "metadata": {},
   "outputs": [
    {
     "data": {
      "text/plain": [
       "{1000: 0.0014018000000000086,\n",
       " 5000: 0.006734699999999982,\n",
       " 10000: 0.013427100000000358,\n",
       " 15000: 0.019194399999999945,\n",
       " 20000: 0.025073499999999527,\n",
       " 25000: 0.03116070000000004,\n",
       " 30000: 0.03813369999999949}"
      ]
     },
     "execution_count": 12,
     "metadata": {},
     "output_type": "execute_result"
    }
   ],
   "source": [
    "time_complex_data"
   ]
  },
  {
   "cell_type": "code",
   "execution_count": 13,
   "metadata": {},
   "outputs": [
    {
     "data": {
      "image/png": "[encoded data removed]",
      "text/plain": [
       "<Figure size 432x288 with 1 Axes>"
      ]
     },
     "metadata": {
      "needs_background": "light"
     },
     "output_type": "display_data"
    }
   ],
   "source": [
    "ax1 = sns.lineplot(data = time_complex_data, legend =\"auto\",label='O(n + k)',markers=True, dashes=False)\n",
    "ax1.set(xlabel='N in list', ylabel='time in ms', title ='Time complexity unsorted list')\n",
    "plt.show()"
   ]
  },
  {
   "cell_type": "markdown",
   "metadata": {},
   "source": [
    "## Conclusie unsorted list\n",
    "\n",
    "Te lui om nu te schrijven :O\n",
    "\n",
    "![](https://media0.giphy.com/media/WRQBXSCnEFJIuxktnw/200.gif)"
   ]
  },
  {
   "cell_type": "markdown",
   "metadata": {},
   "source": [
    "### Sorted List Test"
   ]
  },
  {
   "cell_type": "code",
   "execution_count": 14,
   "metadata": {},
   "outputs": [],
   "source": [
    "list1k =  [i for i in range(1000)]\n",
    "list5k =  [i for i in range(5000)]\n",
    "list10k = [i for i in range(10000)]\n",
    "list15k = [i for i in range(15000)]\n",
    "list20k = [i for i in range(20000)]\n",
    "list25k = [i for i in range(25000)]\n",
    "list30k = [i for i in range(30000)]\n",
    "\n",
    "sortedlists = [list1k,list5k,list10k,list15k,list20k,list25k,list30k]"
   ]
  },
  {
   "cell_type": "code",
   "execution_count": 15,
   "metadata": {},
   "outputs": [],
   "source": [
    "time_complex_data_sorted = get_time_complex(sortedlists)"
   ]
  },
  {
   "cell_type": "code",
   "execution_count": 16,
   "metadata": {},
   "outputs": [
    {
     "data": {
      "text/plain": [
       "{1000: 0.00036989999999992307,\n",
       " 5000: 0.002342500000000136,\n",
       " 10000: 0.005166799999999583,\n",
       " 15000: 0.008809500000000803,\n",
       " 20000: 0.010671499999999945,\n",
       " 25000: 0.01297320000000024,\n",
       " 30000: 0.01621719999999982}"
      ]
     },
     "execution_count": 16,
     "metadata": {},
     "output_type": "execute_result"
    }
   ],
   "source": [
    "time_complex_data_sorted"
   ]
  },
  {
   "cell_type": "code",
   "execution_count": 17,
   "metadata": {},
   "outputs": [
    {
     "data": {
      "image/png": "[encoded data removed]",
      "text/plain": [
       "<Figure size 432x288 with 1 Axes>"
      ]
     },
     "metadata": {
      "needs_background": "light"
     },
     "output_type": "display_data"
    }
   ],
   "source": [
    "ax2 = sns.lineplot(data = time_complex_data_sorted, legend =\"auto\",label='O(n + k)',markers=True, dashes=False)\n",
    "ax2.set(xlabel='N in list', ylabel='time in ms', title ='Time complexity sorted list')\n",
    "plt.show()"
   ]
  },
  {
   "cell_type": "markdown",
   "metadata": {},
   "source": [
    "## Conclusie sorted list\n",
    "\n",
    "Te lui om nu te schrijven :O\n",
    "\n",
    "![](https://media3.giphy.com/media/BmmfETghGOPrW/giphy.gif)"
   ]
  },
  {
   "cell_type": "markdown",
   "metadata": {},
   "source": [
    "### Inverted Sorted List"
   ]
  },
  {
   "cell_type": "code",
   "execution_count": 18,
   "metadata": {},
   "outputs": [],
   "source": [
    "list1kin =  [i for i in range(1000)][::-1]\n",
    "list5kin =  [i for i in range(5000)][::-1]\n",
    "list10kin = [i for i in range(10000)][::-1]\n",
    "list15kin = [i for i in range(15000)][::-1]\n",
    "list20kin = [i for i in range(20000)][::-1]\n",
    "list25kin = [i for i in range(25000)][::-1]\n",
    "list30kin = [i for i in range(30000)][::-1]\n",
    "\n",
    "sortedlistsin = [list1kin,list5kin,list10kin,list15kin,list20kin,list25kin,list30kin]"
   ]
  },
  {
   "cell_type": "code",
   "execution_count": 19,
   "metadata": {},
   "outputs": [],
   "source": [
    "time_complex_data_sortedin = get_time_complex(sortedlistsin)"
   ]
  },
  {
   "cell_type": "code",
   "execution_count": 20,
   "metadata": {},
   "outputs": [
    {
     "data": {
      "text/plain": [
       "{1000: 0.00038579999999921455,\n",
       " 5000: 0.002538499999999999,\n",
       " 10000: 0.004221900000000112,\n",
       " 15000: 0.00817219999999974,\n",
       " 20000: 0.010151500000000091,\n",
       " 25000: 0.013548199999999788,\n",
       " 30000: 0.015382999999999925}"
      ]
     },
     "execution_count": 20,
     "metadata": {},
     "output_type": "execute_result"
    }
   ],
   "source": [
    "time_complex_data_sortedin"
   ]
  },
  {
   "cell_type": "code",
   "execution_count": 21,
   "metadata": {},
   "outputs": [
    {
     "data": {
      "image/png": "[encoded data removed]",
      "text/plain": [
       "<Figure size 432x288 with 1 Axes>"
      ]
     },
     "metadata": {
      "needs_background": "light"
     },
     "output_type": "display_data"
    }
   ],
   "source": [
    "ax3 = sns.lineplot(data = time_complex_data_sortedin, legend =\"auto\",label='O(n + k)',markers=True, dashes=False)\n",
    "ax3.set(xlabel='N in list', ylabel='time in ms', title ='Time complexity sorted inverse list')\n",
    "plt.show()"
   ]
  },
  {
   "cell_type": "markdown",
   "metadata": {},
   "source": [
    "## Conclusie inverted sorted list\n",
    "\n",
    "Te lui om nu te schrijven :O\n",
    "\n",
    "![](https://i.pinimg.com/originals/0a/33/a2/0a33a2970df393257c195c07c5d9adc6.gif)"
   ]
  },
  {
   "cell_type": "code",
   "execution_count": 22,
   "metadata": {},
   "outputs": [
    {
     "data": {
      "image/png": "[encoded data removed]",
      "text/plain": [
       "<Figure size 432x288 with 1 Axes>"
      ]
     },
     "metadata": {
      "needs_background": "light"
     },
     "output_type": "display_data"
    }
   ],
   "source": [
    "plt.plot(time_complex_data.keys() , time_complex_data.values())\n",
    "plt.plot(time_complex_data_sorted.keys() , time_complex_data_sorted.values())\n",
    "plt.plot(time_complex_data_sortedin.keys() , time_complex_data_sortedin.values())\n",
    "\n",
    "plt.legend([\"random values\", \"sorted values\", \"sorted values inverted\"])\n",
    "plt.xlabel('N in list')\n",
    "plt.ylabel('time in ms')\n",
    "plt.title(\"comparison\")\n",
    "\n",
    "plt.show()"
   ]
  },
  {
   "attachments": {},
   "cell_type": "markdown",
   "metadata": {},
   "source": [
    "# Conclusie big O bucket sort\n",
    "\n",
    "Ik been door mijn code heen gegaan en als eerst de complexiteit bepaald voor de worst case. Hier onder staan de stappen en het uitgewerkte plaatje\n",
    "\n",
    "Itereer over de hele lijst 2 x dus 2n\n",
    "\n",
    "Itereer over de hele lijst 2 x dus 2n\n",
    "\n",
    "Herhaal het proces i aantal x (langste digit)\n",
    "\n",
    "Itereer over de hele lijst heen en plaats het element op de juiste plek n\n",
    "\n",
    "Itereer over de bucket list k\n",
    "\n",
    "Itereer over alle items n\n",
    "\n",
    "Itereer over de negatieve lijst en reverse het 2 * n \n",
    "\n",
    "\n",
    "![](https://cdn.discordapp.com/attachments/701351521433944066/807192961741094922/complexiteit_uitleg.png)\n",
    "\n",
    "[link naar orginal for better quality](https://cdn.discordapp.com/attachments/701351521433944066/807192961741094922/complexiteit_uitleg.png)\n",
    "\n",
    "\n",
    "\n",
    "#### Best case\n",
    "In de best case zijn de getallen die er in gaan allemaal positief of allemaal negatief. Het effect hiervan is dat de me algoritme maar 1x wordt uitgevoerd ipv 2x \n",
    "\n",
    "$\\mathcal{O}(5n (I \\dot n + k \\dot n)$\n",
    "\n",
    "#### Worst case\n",
    "\n",
    "\n",
    "$\\mathcal{O}(6n (I \\dot n + k \\dot n)$"
   ]
  },
  {
   "cell_type": "markdown",
   "metadata": {},
   "source": [
    "# Space complexiteit\n",
    "\n",
    "Het programma begint met de input | N\n",
    "\n",
    "Daarna wordt het N opgesplits in 2 extra instaties (positief en negatieve getallen) | 2N\n",
    "\n",
    "Het programma maakt een bucket list aan met de lengte | K\n",
    "\n",
    "Het programma shuffelt de getallen van input naar bucket naar input en aan het einde combineert het alles | Geen verandern\n",
    "\n",
    "Space complexiteit = $\\mathcal{O} (3N + K)$\n"
   ]
  }
 ],
 "metadata": {
  "kernelspec": {
   "display_name": "Python 3",
   "language": "python",
   "name": "python3"
  },
  "language_info": {
   "codemirror_mode": {
    "name": "ipython",
    "version": 3
   },
   "file_extension": ".py",
   "mimetype": "text/x-python",
   "name": "python",
   "nbconvert_exporter": "python",
   "pygments_lexer": "ipython3",
   "version": "3.8.6"
  }
 },
 "nbformat": 4,
 "nbformat_minor": 4
}
