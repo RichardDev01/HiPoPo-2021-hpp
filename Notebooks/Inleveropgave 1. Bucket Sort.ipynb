{
 "cells": [
  {
   "cell_type": "markdown",
   "metadata": {},
   "source": [
    "# Inleveropgave 1. Bucket Sort\n",
    "\n",
    "Richard Jansen 1762581"
   ]
  },
  {
   "cell_type": "markdown",
   "metadata": {},
   "source": [
    "# Bucket sort pseudo code"
   ]
  },
  {
   "cell_type": "markdown",
   "metadata": {},
   "source": [
    "Een bucket sort begint met een een-dimensionale array van n nummers die gesorteerd worden en een twee-dimensionale array van integers, met rijen genummerd van 0 tot 9 en kolommen geïndexeerd van 0 tot n-1. Elke rij in de twee-dimensionale array heeft een bucket.  Het algoritme werkt dan alsvolgt:\n",
    "\n",
    "1. Plaats elke waarde van de een-dimensionale array in een rij van de bucket array, gebaseerd op het meest rechtse cijfer in het getal (de \"een\"-waarde). Bijvoorbeeld, 97 wordt geplaatst in rij 7, 3 wordt geplaatst in rij 3 en 100 wordt geplaatst in rij 0. Deze stap heet de distribution pass.\n",
    "2. Loop door de bucket array rij voor rij, en kopieer de waardes terug in de originele array. Deze stap heet de gathering pass. De volgorde van de hierboven genoemde getallen is dus nu 100, 3, 97.\n",
    "3. Herhaal dit proces voor elke volgende digit-positie (dus voor de tientallen, honderdtallen, etc.). Na de laatste gathering pass is de array gesorteerd.\n",
    "4. Verzin een aanpassing als oplossing voor de negatieve getallen, maar maak ook hierbij gebruik van een distribution en gathering pass\n",
    "\n",
    "\n",
    "## Opdracht\n",
    "1. Schrijf een implementatie van het bovenstaande Bucket Sort algoritme voor het sorteren van gehele getallen (LaTeX: x \\in \\mathbb{Z} x ∈ Z) .\n",
    "2. Benader zo precies mogelijk de de tijds- en ruimtecomplexiteit van je algoritme. (Dus niet m.b.v. asymptotische notatie)\n",
    "3. Bepaal, net als eerder, op basis van een test en door analyse, de Big O waarde van Bucket Sort.\n",
    "4. Extra: Maak je BucketSort implementatie ook geschikt voor het sorteren van getallen met cijfers achter de komma (LaTeX: x \\in\\mathbb{R}x ∈ R )\n",
    "5. Extra: Laat bij je analyse zien dat je onderzoek hebt gedaan over wat wel en niet mee te nemen in je analyse (is een variable assignment een stap? hoeveel ruimte kost je datastructuur?)\n",
    "6. Extra: Overleg met je docent als je andere ideeën hebt of deze kunnen gelden als extra voor een hoger cijfer\n",
    "\n",
    "#### Aanvulling van de docent\n",
    "\n",
    "![](https://cdn.discordapp.com/attachments/663809977508429834/806859221298839622/unknown.png)"
   ]
  },
  {
   "cell_type": "markdown",
   "metadata": {},
   "source": [
    "# Setup and imports"
   ]
  },
  {
   "cell_type": "code",
   "execution_count": 2,
   "metadata": {},
   "outputs": [],
   "source": [
    "from timeit import default_timer as timer\n",
    "import numpy as np\n",
    "import random"
   ]
  },
  {
   "cell_type": "code",
   "execution_count": 133,
   "metadata": {},
   "outputs": [],
   "source": [
    "randomlist1k  = list(np.random.randint(low=0, high=1000, size=1000))\n",
    "randomlist10k = list(np.random.randint(low=0, high=1000, size=10000))\n",
    "randomlist30k = list(np.random.randint(low=0, high=1000, size=30000))"
   ]
  },
  {
   "cell_type": "code",
   "execution_count": 142,
   "metadata": {},
   "outputs": [],
   "source": [
    "def createRandomList(high, size):\n",
    "    return list(np.random.randint(low=0, high=high, size=size))"
   ]
  },
  {
   "cell_type": "code",
   "execution_count": 49,
   "metadata": {},
   "outputs": [
    {
     "name": "stdout",
     "output_type": "stream",
     "text": [
      "[1 2 3 4 5 6]\n"
     ]
    }
   ],
   "source": [
    "arr2 = [[1, 2, 3],\n",
    " [4, 5, 6]]\n",
    "\n",
    "print(np.array(arr2).flatten())"
   ]
  },
  {
   "cell_type": "code",
   "execution_count": 4,
   "metadata": {},
   "outputs": [],
   "source": [
    "sortedlist30k = [i for i in range(30000)]"
   ]
  },
  {
   "cell_type": "code",
   "execution_count": 399,
   "metadata": {},
   "outputs": [],
   "source": [
    "def bucket_sort(input_list: [int]) -> [int]:\n",
    "    longest_digit = len(str(max(input_list)))\n",
    "    \n",
    "    # The number system can be changed to other systems like binairy, decimal, hexidecimal, etc\n",
    "    number_system = 10\n",
    "    digit_index = 10  \n",
    "    \n",
    "    #The legth of the digits\n",
    "    for i in range(longest_digit):\n",
    "#         print(input_list, i)\n",
    "        \n",
    "        # Create new buckets each time\n",
    "        buckets_list = [[] for _ in range(10)]\n",
    "        \n",
    "        for number in input_list:\n",
    "            #First attempt code, Don't delelte plz :c\n",
    "#             buckets_list[int(str(number).zfill(longest_digit)[-i+1:-i+1+1])].append(number)\n",
    "#             buckets_list[int(str(number).zfill(longest_digit)[i-1])].append(number)\n",
    "\n",
    "            # Check the digit index position by checking the left over digits (modulo) from 1 index to the left\n",
    "            # Check how many times the most left number from the left over fits in the numsystem index\n",
    "            buckets_list[(number % digit_index) // (digit_index // number_system)].append(number)\n",
    "        digit_index = digit_index * 10 \n",
    "        \n",
    "        # Clear input list and add bucket values to it\n",
    "        input_list = []\n",
    "        for bucket in buckets_list:\n",
    "            input_list += [i for i in bucket]\n",
    "    return input_list\n",
    "    "
   ]
  },
  {
   "cell_type": "code",
   "execution_count": 342,
   "metadata": {
    "scrolled": true
   },
   "outputs": [
    {
     "data": {
      "text/plain": [
       "1"
      ]
     },
     "execution_count": 342,
     "metadata": {},
     "output_type": "execute_result"
    }
   ],
   "source": [
    "(3165 % 1000) // (1000 // 10)"
   ]
  },
  {
   "cell_type": "markdown",
   "metadata": {},
   "source": [
    "# Example\n",
    "\n",
    "We hebben 3165 als getal en willen de 3e index vanaf rechts hebben.\n",
    "\n",
    "Dat is dus 1\n",
    "\n",
    "De code hier onder laat zien hoe dat werkt"
   ]
  },
  {
   "cell_type": "code",
   "execution_count": 345,
   "metadata": {},
   "outputs": [
    {
     "name": "stdout",
     "output_type": "stream",
     "text": [
      "165\n",
      "100\n",
      "1\n"
     ]
    }
   ],
   "source": [
    "print(3165 % 1000)\n",
    "print(1000 // 10)\n",
    "print((3165 % 1000) // (1000 // 10))"
   ]
  },
  {
   "cell_type": "code",
   "execution_count": 17,
   "metadata": {},
   "outputs": [
    {
     "data": {
      "text/plain": [
       "[71, 56, 3, 48, 87, 73, 78, 8, 48, 61]"
      ]
     },
     "execution_count": 17,
     "metadata": {},
     "output_type": "execute_result"
    }
   ],
   "source": [
    "randomlist1k[:10]"
   ]
  },
  {
   "cell_type": "code",
   "execution_count": 405,
   "metadata": {
    "scrolled": false
   },
   "outputs": [
    {
     "name": "stdout",
     "output_type": "stream",
     "text": [
      "[5, 9, 5, 7, 8, 0, 9, 9, 4, 2, 2, 9, 6, 4, 6]\n",
      "[5, 9, 5, 7, 8, 0, 9, 9, 4, 2, 2, 9, 6, 4, 6] 0\n",
      "[0, 2, 2, 4, 4, 5, 5, 6, 6, 7, 8, 9, 9, 9, 9]\n",
      "\n",
      "[90, 56, 57, 47, 23, 48, 69, 97, 49, 92, 16, 10, 55, 40, 30]\n",
      "[90, 56, 57, 47, 23, 48, 69, 97, 49, 92, 16, 10, 55, 40, 30] 0\n",
      "[90, 10, 40, 30, 92, 23, 55, 56, 16, 57, 47, 97, 48, 69, 49] 1\n",
      "[10, 16, 23, 30, 40, 47, 48, 49, 55, 56, 57, 69, 90, 92, 97]\n",
      "\n",
      "[1773, 9875, 7821, 9315, 943, 2314, 9805, 5954, 3168, 8017, 9058, 5930, 6755, 8588, 3107, 8845, 5237, 9043, 5474, 7782]\n",
      "[1773, 9875, 7821, 9315, 943, 2314, 9805, 5954, 3168, 8017, 9058, 5930, 6755, 8588, 3107, 8845, 5237, 9043, 5474, 7782] 0\n",
      "[5930, 7821, 7782, 1773, 943, 9043, 2314, 5954, 5474, 9875, 9315, 9805, 6755, 8845, 8017, 3107, 5237, 3168, 9058, 8588] 1\n",
      "[9805, 3107, 2314, 9315, 8017, 7821, 5930, 5237, 943, 9043, 8845, 5954, 6755, 9058, 3168, 1773, 5474, 9875, 7782, 8588] 2\n",
      "[8017, 9043, 9058, 3107, 3168, 5237, 2314, 9315, 5474, 8588, 6755, 1773, 7782, 9805, 7821, 8845, 9875, 5930, 943, 5954] 3\n",
      "[943, 1773, 2314, 3107, 3168, 5237, 5474, 5930, 5954, 6755, 7782, 7821, 8017, 8588, 8845, 9043, 9058, 9315, 9805, 9875]\n"
     ]
    }
   ],
   "source": [
    "lijst_gatelen = createRandomList(10, 15)\n",
    "print(lijst_gatelen)\n",
    "print(bucket_sort(lijst_gatelen))\n",
    "\n",
    "print()\n",
    "\n",
    "lijst_gatelen = createRandomList(100, 15)\n",
    "print(lijst_gatelen)\n",
    "print(bucket_sort(lijst_gatelen))\n",
    "\n",
    "print()\n",
    "\n",
    "lijst_gatelen = createRandomList(10000, 20)\n",
    "print(lijst_gatelen)\n",
    "print(bucket_sort(lijst_gatelen))"
   ]
  }
 ],
 "metadata": {
  "kernelspec": {
   "display_name": "Python 3",
   "language": "python",
   "name": "python3"
  },
  "language_info": {
   "codemirror_mode": {
    "name": "ipython",
    "version": 3
   },
   "file_extension": ".py",
   "mimetype": "text/x-python",
   "name": "python",
   "nbconvert_exporter": "python",
   "pygments_lexer": "ipython3",
   "version": "3.8.6"
  }
 },
 "nbformat": 4,
 "nbformat_minor": 4
}
