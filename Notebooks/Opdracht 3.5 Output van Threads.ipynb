{
 "cells": [
  {
   "cell_type": "code",
   "execution_count": 3,
   "metadata": {},
   "outputs": [
    {
     "name": "stdout",
     "output_type": "stream",
     "text": [
      "> 10\n",
      "sum = 3.239925989\n"
     ]
    }
   ],
   "source": [
    "# Computes an approximation of Pi by summing up\n",
    "# a series of terms.  The more terms, the closer\n",
    "# the approximation.\n",
    "# Based on a variation of the Gregory-Leibniz series approximation\n",
    "#\n",
    "import threading\n",
    "\n",
    "def f( x ):\n",
    "    \"\"\"\n",
    "    The function being integrated, and which returns\n",
    "    an approximation of Pi when summed up over an interval\n",
    "    of integers.\n",
    "    \"\"\"\n",
    "    return 4.0 / ( 1 + x*x )\n",
    "\n",
    "class WorkerThread(threading.Thread):\n",
    "    \n",
    "    def __init__(self, args):\n",
    "        \"\"\"\n",
    "        args must contain n1, n2, and deltaX, in that order.\n",
    "        \"\"\"\n",
    "        threading.Thread.__init__(self, args=args)\n",
    "        self.n1 = args[0]\n",
    "        self.n2 = args[1]\n",
    "        self.deltaX = args[2]\n",
    "    \n",
    "    def run(self):\n",
    "        \"\"\"\n",
    "        This will be called automatically by start() in\n",
    "        main.  It's the method that does all the work.\n",
    "        \"\"\"\n",
    "        pass # TODO: Replace with actual code!\n",
    "    \n",
    "    def get(self):\n",
    "        \"\"\"\n",
    "        gets the computed sum.\n",
    "        \"\"\"\n",
    "        pass # TODO: Replace with actual code!\n",
    "\n",
    "def main():\n",
    "    \"\"\"\n",
    "    Gets a number of terms from the user, then sums\n",
    "    up the series and prints the resulting sum, which\n",
    "    should approximate Pi.\n",
    "    \"\"\"\n",
    "\n",
    "    # get the number of terms\n",
    "    N = int( input( \"> \" ) )\n",
    "\n",
    "    sum = 0.0          # where we sum up the individual\n",
    "                       # intervals\n",
    "    deltaX = 1.0 / N   # the interval\n",
    "\n",
    "    # sum over N terms\n",
    "    for i in range( N ):\n",
    "        sum += f( i * deltaX )\n",
    "\n",
    "    # display results\n",
    "    print( \"sum = %1.9f\" % ( sum * deltaX ) )\n",
    "\n",
    "main()"
   ]
  },
  {
   "cell_type": "code",
   "execution_count": null,
   "metadata": {},
   "outputs": [],
   "source": []
  }
 ],
 "metadata": {
  "kernelspec": {
   "display_name": "Python 3",
   "language": "python",
   "name": "python3"
  },
  "language_info": {
   "codemirror_mode": {
    "name": "ipython",
    "version": 3
   },
   "file_extension": ".py",
   "mimetype": "text/x-python",
   "name": "python",
   "nbconvert_exporter": "python",
   "pygments_lexer": "ipython3",
   "version": "3.8.6"
  }
 },
 "nbformat": 4,
 "nbformat_minor": 4
}
