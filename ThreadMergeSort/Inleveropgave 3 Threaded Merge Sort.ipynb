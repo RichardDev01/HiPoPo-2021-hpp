{
 "cells": [
  {
   "cell_type": "markdown",
   "metadata": {},
   "source": [
    "# Threaded Merge Sort\n",
    "\n",
    "Richard Jansen \n",
    "\n",
    "![](https://cdn.discordapp.com/attachments/810263198192107521/815223905622949908/unknown.png)"
   ]
  },
  {
   "cell_type": "markdown",
   "metadata": {},
   "source": [
    "# 1 Core / Thread\n",
    "\n",
    "![](https://cdn.discordapp.com/attachments/810263198192107521/815224480456376390/unknown.png)"
   ]
  },
  {
   "cell_type": "markdown",
   "metadata": {},
   "source": [
    "Bij het gebruik van 1 core/thread is er geen sprake van communicatie stappen tussen verschillenden cores/threads\n",
    "\n",
    "De chunksize van deze core/thread is dan ook (n) ook wel 8 in dit voorbeeld"
   ]
  },
  {
   "cell_type": "markdown",
   "metadata": {},
   "source": [
    "# 2 Threads / Cores\n",
    "![](https://cdn.discordapp.com/attachments/810263198192107521/815229714347065364/unknown.png)"
   ]
  },
  {
   "cell_type": "markdown",
   "metadata": {},
   "source": [
    "Bij het gebruik van 2 cores/threads moet de orginele lijst worden opgesplits over de cores/threads\n",
    "\n",
    "De Chunksize wordt hierdoor per thread n/2 wat 4 is in dit voor beeld\n",
    "\n",
    "Door het opsplitsen kommen er 2 communicatie stappen bij de complexiteit\n",
    "\n",
    "Aan het einde mergen de cores/threads wat 1 communicatie stap kost\n",
    "\n",
    "**Communicatie complexiteit = T3**\n"
   ]
  },
  {
   "cell_type": "markdown",
   "metadata": {},
   "source": [
    "# 4 Threads / Cores\n",
    "![](https://cdn.discordapp.com/attachments/810263198192107521/815237960302985246/unknown.png)"
   ]
  },
  {
   "cell_type": "markdown",
   "metadata": {},
   "source": [
    "Bij het gebruik van 4 cores/threads moet de orginele lijst worden opgesplits over de cores/threads\n",
    "\n",
    "De Chunksize wordt hierdoor per thread n/4 wat 2 is in dit voor beeld\n",
    "\n",
    "Door het opsplitsen kommen er 4 communicatie stappen bij de complexiteit\n",
    "\n",
    "Aan het einde mergen de cores/threads wat 2 communicatie stapen kost\n",
    "\n",
    "**Communicatie complexiteit = T6**"
   ]
  },
  {
   "cell_type": "markdown",
   "metadata": {},
   "source": [
    "# 8 Threads / Cores\n",
    "![](https://cdn.discordapp.com/attachments/810263198192107521/815239577722814464/unknown.png)"
   ]
  },
  {
   "cell_type": "markdown",
   "metadata": {},
   "source": [
    "Bij het gebruik van 8 cores/threads moet de orginele lijst worden opgesplits over de cores/threads\n",
    "\n",
    "De Chunksize wordt hierdoor per thread n/8 wat 1 is in dit voor beeld\n",
    "\n",
    "Door het opsplitsen kommen er 8 communicatie stappen bij de complexiteit\n",
    "\n",
    "Omdat er veel threads/cores zijn moeten er ook veel joins plaats gevonden vonden\n",
    "\n",
    "Hierdoor komen er 7 Join operaties bij aan communicatie stappen\n",
    "\n",
    "**Communicatie complexiteit = T15**"
   ]
  },
  {
   "cell_type": "markdown",
   "metadata": {},
   "source": [
    "# parallel Computers Architectures\n",
    "![](https://cdn.discordapp.com/attachments/810263198192107521/815245493336670238/unknown.png)\n"
   ]
  },
  {
   "cell_type": "markdown",
   "metadata": {},
   "source": [
    "Het architectuur wat bij mijn ontwerp past is het SIMD architectuur\n",
    "\n",
    "De data die ik heb wordt verdeeld en worden de zelfde instructies over verschillende data stukjes uitgevoerd\n"
   ]
  },
  {
   "cell_type": "markdown",
   "metadata": {},
   "source": [
    "# GIL (Global interpreter lock)\n",
    "\n",
    "Python heft een ingebouwde feature genaamd Global interpreter lock wat ervoor zorgt dat maar 1 thread tegelijk de Python interpreter kan gebruiken. De reden dat python dit heeft is voor het memory management voor de programmeer taal. De bedoeling van GIL is bijvoorbeeld om een gedeelte van race conditions te verhelpen, memory leaks te voorkomen zodat er minder crashes of andere rare bugs ontstaan in een programma.\n",
    "\n",
    "Nadeel van dit is dat python niet echt geschrikte is om parallel taken uitvoeren met threads omdat de GIL het programma nog steeds dan sequentieel maakt maar threads kunnen wel goed gebruikt worden om i/o op te halen vanwege het queue systeem. Je zou hiervoor ook meerdere cores kunnen gebruiken maar houd dan kom je richting de hardware eigenschappen van **jouw** cpu van wat daar bij past.\n",
    "\n",
    "## Multi cores\n",
    "\n",
    "Om langs de GIL van python op tegaan zodat computaties sneller gemaakt kunnen worden, is er een standaard library die je toelaat om meerdere cores te gebruiken. Wat dit doet is dat het meerdere Python interpreter actief maakt over verschillende cores met zijn eigen stukje code/data. Neem wel als notitie dat in die specifieke extra instanties ook weer een GIL zit\n",
    "\n",
    "# samengevat\n",
    "\n",
    "Als je programma i/o bound is, heeft het niet meerwaarde om multi-cores te gebruiken ten opzichten van Threads.\n",
    "\n",
    "Als je programma veel dezelfde commutaties moet doen over **verschillende** data stukjes, dan kan je wel beter meerdere cores gebruiken.\n"
   ]
  },
  {
   "cell_type": "markdown",
   "metadata": {},
   "source": [
    "# Wat betekent dit voor Threaded MergeSort\n",
    "\n",
    "In een mergesort wordt niet echt veel 'grote' computaties gemaakt dus zou ik de praktijk niet veel verschill moeten zitten tussen 4 cores en 4 threads **maar** zodra je gaat schalen kwa data is het goed mogelijk dat de nature van Threads beter zou kunnen werken voor dit specifieke probleem\n",
    "\n",
    "Echter, Ik kies ervoor om meer gericht tewerken met Cores omdat als je uiteindelijk **moeilijkere** opdrachten zou maken, kun je beter richten op de hardware die je gebruikte al zei het GPU of CPU"
   ]
  }
 ],
 "metadata": {
  "kernelspec": {
   "display_name": "Python 3",
   "language": "python",
   "name": "python3"
  },
  "language_info": {
   "codemirror_mode": {
    "name": "ipython",
    "version": 3
   },
   "file_extension": ".py",
   "mimetype": "text/x-python",
   "name": "python",
   "nbconvert_exporter": "python",
   "pygments_lexer": "ipython3",
   "version": "3.8.6"
  }
 },
 "nbformat": 4,
 "nbformat_minor": 4
}
